{
 "cells": [
  {
   "cell_type": "markdown",
   "id": "76167e7f",
   "metadata": {},
   "source": [
    "## 1. 数据读取和处理\n",
    "\n",
    "### 1.1 加载CIFAR-10数据集\n",
    "CIFAR-10 是由 Hinton 的学生 Alex Krizhevsky 和 Ilya Sutskever 整理的一个用于识别普适物体的小型数据集。一共包含 10 个类别的 RGB 彩色图 片：飞机（ arplane ）、汽车（ automobile ）、鸟类（ bird ）、猫（ cat ）、鹿（ deer ）、狗（ dog ）、蛙类（ frog ）、马（ horse ）、船（ ship ）和卡车（ truck ）。图片的尺寸为 32×32 ，数据集中一共有 50000 张训练圄片和 10000 张测试图片。 "
   ]
  },
  {
   "cell_type": "markdown",
   "id": "e08547d0",
   "metadata": {},
   "source": [
    "使用`torchvision`加载和归一化训练数据和测试数据:\n",
    "\n",
    "a、`torchvision`实现了常用的一些深度学习的相关的图像数据的加载功能，比如cifar10、Imagenet、Mnist等等的，保存在`torchvision.datasets`模块中。\n",
    "    \n",
    "b、同时，也封装了一些处理数据的方法。保存在`torchvision.transforms`模块中\n",
    "    \n",
    "c、还封装了一些模型和工具封装在相应模型中,比如`torchvision.models`当中就包含了AlexNet，VGG，ResNet，SqueezeNet等模型。"
   ]
  },
  {
   "cell_type": "code",
   "execution_count": 1,
   "id": "b3ceee20",
   "metadata": {},
   "outputs": [
    {
     "name": "stderr",
     "output_type": "stream",
     "text": [
      "d:\\anaconda\\envs\\cuda102\\lib\\site-packages\\tqdm\\auto.py:21: TqdmWarning: IProgress not found. Please update jupyter and ipywidgets. See https://ipywidgets.readthedocs.io/en/stable/user_install.html\n",
      "  from .autonotebook import tqdm as notebook_tqdm\n"
     ]
    },
    {
     "data": {
      "text/plain": [
       "'1.10.2+cu102'"
      ]
     },
     "execution_count": 1,
     "metadata": {},
     "output_type": "execute_result"
    }
   ],
   "source": [
    "import torch\n",
    "import torch.nn as nn\n",
    "import torchvision\n",
    "import torchvision.datasets as datasets\n",
    "import torchvision.transforms as transforms\n",
    "import torch.nn.functional as F\n",
    "from torchsummary import summary\n",
    "torch.__version__"
   ]
  },
  {
   "cell_type": "markdown",
   "id": "f4f7bb2b",
   "metadata": {},
   "source": [
    "**归一化**"
   ]
  },
  {
   "cell_type": "code",
   "execution_count": null,
   "id": "0586c6ce",
   "metadata": {},
   "outputs": [],
   "source": [
    "transform = transforms.Compose([\n",
    "#     transforms.CenterCrop(224),\n",
    "\n",
    "    transforms.RandomCrop(32,padding=4), # 数据增广\n",
    "    transforms.RandomHorizontalFlip(),  # 数据增广\n",
    "    transforms.ToTensor(),\n",
    "    transforms.Normalize((0.5, 0.5, 0.5), (0.5, 0.5, 0.5))\n",
    "]) "
   ]
  },
  {
   "cell_type": "markdown",
   "id": "0242c98c",
   "metadata": {},
   "source": [
    "由于torchvision的datasets的输出是[0,1]的PILImage，所以我们先先\n",
    "归一化为[-1,1]的Tensor。\n",
    "定义变换transform，利用transforms模块中的Compose()组合ToTensor和Normalize两个变换\n",
    "\n",
    "`transforms.Normalize((0.5, 0.5, 0.5), (0.5, 0.5, 0.5))`前面的（0.5，0.5，0.5） 是 R G B 三个通道上的均值， 后面(0.5, 0.5, 0.5)是三个通道的标准差，注意通道顺序是 R G B。这两个tuple数据是用来对RGB 图像做归一化的，如其名称 Normalize 所示这里都取0.5只是一个近似的操作，实际上其均值和方差并不是这么多，但是就这个示例而言 影响可不计。精确值是通过分别计算R,G,B三个通道的数据算出来的。\n"
   ]
  }
 ],
 "metadata": {
  "kernelspec": {
   "display_name": "cuda102",
   "language": "python",
   "name": "python3"
  },
  "language_info": {
   "codemirror_mode": {
    "name": "ipython",
    "version": 3
   },
   "file_extension": ".py",
   "mimetype": "text/x-python",
   "name": "python",
   "nbconvert_exporter": "python",
   "pygments_lexer": "ipython3",
   "version": "3.8.20"
  }
 },
 "nbformat": 4,
 "nbformat_minor": 5
}
